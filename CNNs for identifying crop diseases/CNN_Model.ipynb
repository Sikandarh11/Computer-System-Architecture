{
  "cells": [
    {
      "cell_type": "markdown",
      "metadata": {
        "id": "view-in-github",
        "colab_type": "text"
      },
      "source": [
        "<a href=\"https://colab.research.google.com/github/Sikandarh11/Computer-System-Architecture/blob/main/CNN_Model.ipynb\" target=\"_parent\"><img src=\"https://colab.research.google.com/assets/colab-badge.svg\" alt=\"Open In Colab\"/></a>"
      ]
    },
    {
      "cell_type": "code",
      "execution_count": null,
      "metadata": {
        "colab": {
          "base_uri": "https://localhost:8080/"
        },
        "id": "LppkaR4HeoxV",
        "outputId": "2e7d1aea-111f-4755-ec0f-a4a8b547303f"
      },
      "outputs": [
        {
          "name": "stdout",
          "output_type": "stream",
          "text": [
            "Warning: Your Kaggle API key is readable by other users on this system! To fix this, you can run 'chmod 600 /root/.kaggle/kaggle.json'\n",
            "403 - Forbidden - Permission 'datasets.get' was denied\n"
          ]
        }
      ],
      "source": [
        "!mkdir -p ~/.kaggle\n",
        "!cp kaggle.json ~/.kaggle/\n",
        "!kaggle datasets download -d rizwan123456789/potato-disease-leaf-datasetpl\n"
      ]
    },
    {
      "cell_type": "code",
      "execution_count": null,
      "metadata": {
        "id": "TTO9SaEweyN2"
      },
      "outputs": [],
      "source": [
        "!chmod 600 /root/.kaggle/kaggle.json"
      ]
    },
    {
      "cell_type": "code",
      "execution_count": null,
      "metadata": {
        "id": "dY7O8j_6g9hP"
      },
      "outputs": [],
      "source": [
        "import zipfile\n",
        "zip_ref = zipfile.ZipFile('/content/potato-disease-leaf-datasetpld.zip', 'r')\n",
        "zip_ref.extractall('/content')\n",
        "zip_ref.close()\n"
      ]
    },
    {
      "cell_type": "code",
      "execution_count": null,
      "metadata": {
        "colab": {
          "base_uri": "https://localhost:8080/"
        },
        "id": "xYeN_HBCDKqF",
        "outputId": "596e0b52-76dd-4c71-f264-5875749dba52"
      },
      "outputs": [
        {
          "name": "stdout",
          "output_type": "stream",
          "text": [
            "Found 3251 images belonging to 3 classes.\n",
            "Found 405 images belonging to 3 classes.\n"
          ]
        }
      ],
      "source": [
        "\n",
        "import tensorflow as tf\n",
        "from tensorflow import keras\n",
        "from keras.layers import Dense, Conv2D, MaxPooling2D, Flatten, BatchNormalization, Dropout\n",
        "from tensorflow.keras.optimizers import Adam\n",
        "from keras.preprocessing.image import ImageDataGenerator\n",
        "\n",
        "# Path to dataset directory\n",
        "train_dir = '/content/PLD_3_Classes_256/Training'\n",
        "validation_dir = '/content/PLD_3_Classes_256/Testing'\n",
        "\n",
        "# Define data augmentation parameters\n",
        "data_augmentation = ImageDataGenerator(\n",
        "    rescale=1./255,\n",
        "    rotation_range=10,\n",
        "    width_shift_range=0.1,\n",
        "    height_shift_range=0.1,\n",
        "    shear_range=0.1,\n",
        "    zoom_range=0.1,\n",
        "    horizontal_flip=True,\n",
        "    fill_mode='nearest'\n",
        ")\n",
        "\n",
        "# Load training dataset with data augmentation and preprocessing\n",
        "train_ds_augmented = data_augmentation.flow_from_directory(\n",
        "    directory=train_dir,\n",
        "    target_size=(256, 256),\n",
        "    batch_size=8,\n",
        "    class_mode='categorical'\n",
        ")\n",
        "\n",
        "# Load validation dataset\n",
        "validation_ds_aug = data_augmentation.flow_from_directory(\n",
        "    directory=validation_dir,\n",
        "    target_size=(256, 256),\n",
        "    batch_size=8,\n",
        "    class_mode='categorical'\n",
        ")\n",
        "\n",
        "# Define a simpler model architecture\n",
        "model = keras.Sequential([\n",
        "    Conv2D(64, kernel_size=(3, 3), padding='same', activation='relu', input_shape=(256, 256, 3)),\n",
        "    BatchNormalization(),\n",
        "    MaxPooling2D(pool_size=(2, 2), strides=2, padding='same'),\n",
        "    Conv2D(32, kernel_size=(3, 3), padding='same', activation='relu'),\n",
        "    BatchNormalization(),\n",
        "    MaxPooling2D(pool_size=(2, 2), strides=2, padding='same'),\n",
        "    Conv2D(16, kernel_size=(3, 3), padding='same', activation='relu'),\n",
        "    BatchNormalization(),\n",
        "    MaxPooling2D(pool_size=(2, 2), strides=2, padding='same'),\n",
        "    Flatten(),\n",
        "    Dense(32, activation='relu'),\n",
        "    BatchNormalization(),\n",
        "    Dropout(0.2),\n",
        "    Dense(3, activation='softmax')\n",
        "])\n",
        "\n",
        "# Compile the model with a smaller learning rate\n",
        "model.compile(optimizer=Adam(learning_rate=0.0001), loss=\"categorical_crossentropy\", metrics=['accuracy'])\n",
        "\n",
        "# Train the model\n",
        "\n"
      ]
    },
    {
      "cell_type": "code",
      "execution_count": null,
      "metadata": {
        "colab": {
          "background_save": true,
          "base_uri": "https://localhost:8080/"
        },
        "id": "ZnfgSpFODPSB",
        "outputId": "d2cceb15-65c5-418f-fcaa-3fe707919a65"
      },
      "outputs": [
        {
          "name": "stdout",
          "output_type": "stream",
          "text": [
            "Epoch 1/20\n",
            "406/406 [==============================] - 712s 2s/step - loss: 0.9610 - accuracy: 0.5809 - val_loss: 2.5989 - val_accuracy: 0.2525\n",
            "Epoch 2/20\n",
            "406/406 [==============================] - 712s 2s/step - loss: 0.7559 - accuracy: 0.6772 - val_loss: 1.1098 - val_accuracy: 0.5725\n",
            "Epoch 3/20\n",
            "406/406 [==============================] - 718s 2s/step - loss: 0.7119 - accuracy: 0.7068 - val_loss: 0.6369 - val_accuracy: 0.7575\n",
            "Epoch 4/20\n",
            "406/406 [==============================] - 691s 2s/step - loss: 0.6732 - accuracy: 0.7179 - val_loss: 0.5520 - val_accuracy: 0.7700\n",
            "Epoch 5/20\n",
            "406/406 [==============================] - 713s 2s/step - loss: 0.6227 - accuracy: 0.7404 - val_loss: 0.5078 - val_accuracy: 0.7675\n",
            "Epoch 6/20\n",
            "406/406 [==============================] - 688s 2s/step - loss: 0.5773 - accuracy: 0.7663 - val_loss: 0.4675 - val_accuracy: 0.8100\n",
            "Epoch 7/20\n",
            "406/406 [==============================] - 690s 2s/step - loss: 0.5831 - accuracy: 0.7669 - val_loss: 0.6729 - val_accuracy: 0.7675\n",
            "Epoch 8/20\n",
            "222/406 [===============>..............] - ETA: 5:01 - loss: 0.5495 - accuracy: 0.7866"
          ]
        }
      ],
      "source": [
        "history = model.fit(\n",
        "    train_ds_augmented,\n",
        "    steps_per_epoch=train_ds_augmented.samples // 8,\n",
        "    validation_data=validation_ds_aug,\n",
        "    validation_steps=validation_ds_aug.samples // 8,\n",
        "    epochs=20\n",
        ")\n"
      ]
    },
    {
      "cell_type": "code",
      "execution_count": null,
      "metadata": {
        "id": "m3QSOuGM6yf6"
      },
      "outputs": [],
      "source": [
        "# Save the model\n",
        "model.save(\"cnn_model_optimized.h5\")"
      ]
    },
    {
      "cell_type": "code",
      "execution_count": null,
      "metadata": {
        "id": "3YnjxwNl-4J2"
      },
      "outputs": [],
      "source": [
        "import pickle\n",
        "model.save(\"trained_model.h5\")\n",
        "\n",
        "# Save the training history\n",
        "with open('training_history.pkl', 'wb') as f:\n",
        "    pickle.dump(history.history, f)"
      ]
    },
    {
      "cell_type": "code",
      "source": [
        "from tensorflow.keras.models import load_model\n",
        "# Load the model\n",
        "model = load_model('/content/cnn_model_optimized.h5')"
      ],
      "metadata": {
        "id": "sajqe3KlujoK"
      },
      "execution_count": 4,
      "outputs": []
    },
    {
      "cell_type": "code",
      "source": [
        "import zipfile\n",
        "zip_ref = zipfile.ZipFile('/content/Testing.zip', 'r')\n",
        "zip_ref.extractall('/content')\n",
        "zip_ref.close()"
      ],
      "metadata": {
        "id": "ZyQAr8a6uNlS"
      },
      "execution_count": 5,
      "outputs": []
    },
    {
      "cell_type": "code",
      "execution_count": 6,
      "metadata": {
        "id": "xZt1nXJ0_Kmx",
        "colab": {
          "base_uri": "https://localhost:8080/"
        },
        "outputId": "928d01f1-77e2-4df7-b25e-6bdf61e362f0"
      },
      "outputs": [
        {
          "output_type": "stream",
          "name": "stdout",
          "text": [
            "Found 405 images belonging to 3 classes.\n",
            "51/51 [==============================] - 28s 521ms/step - loss: 0.4472 - accuracy: 0.8370\n",
            "Accuracy: 0.8370370268821716\n"
          ]
        }
      ],
      "source": [
        "from tensorflow.keras.preprocessing.image import ImageDataGenerator\n",
        "\n",
        "# Create an ImageDataGenerator for preprocessing\n",
        "test_datagen = ImageDataGenerator(rescale=1./255)\n",
        "\n",
        "# Load and preprocess the testing images\n",
        "test_generator = test_datagen.flow_from_directory(\n",
        "    '/content/Testing',\n",
        "    target_size=(256, 256),\n",
        "    batch_size=8,\n",
        "    class_mode='categorical'  # or 'binary' if it's a binary classification task\n",
        ")\n",
        "\n",
        "# Evaluate the model on the testing data\n",
        "loss, accuracy = model.evaluate(test_generator)\n",
        "\n",
        "print('Accuracy:', accuracy)\n"
      ]
    },
    {
      "cell_type": "code",
      "source": [],
      "metadata": {
        "id": "oO1EMALI2aSt"
      },
      "execution_count": null,
      "outputs": []
    }
  ],
  "metadata": {
    "accelerator": "TPU",
    "colab": {
      "provenance": [],
      "include_colab_link": true
    },
    "kernelspec": {
      "display_name": "Python 3",
      "name": "python3"
    },
    "language_info": {
      "name": "python"
    }
  },
  "nbformat": 4,
  "nbformat_minor": 0
}
